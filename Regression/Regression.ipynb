{
 "cells": [
  {
   "cell_type": "markdown",
   "metadata": {},
   "source": [
    "# create a Regression dataset using scikit learn"
   ]
  },
  {
   "cell_type": "code",
   "execution_count": 1,
   "metadata": {},
   "outputs": [],
   "source": [
    "from warnings import filterwarnings\n",
    "filterwarnings('ignore')"
   ]
  },
  {
   "cell_type": "code",
   "execution_count": 2,
   "metadata": {},
   "outputs": [],
   "source": [
    "from sklearn.datasets import make_regression\n",
    "X,Y=make_regression(n_samples=3000,n_features=30,n_informative=28,noise=10,random_state=42)"
   ]
  },
  {
   "cell_type": "code",
   "execution_count": 3,
   "metadata": {},
   "outputs": [
    {
     "data": {
      "text/plain": [
       "array([[-0.71827942, -0.07007371, -2.8807235 , ...,  0.55875312,\n",
       "        -0.87841759, -0.31143446],\n",
       "       [-0.12946552,  0.4509102 , -0.22386779, ...,  0.47038416,\n",
       "        -2.21539143,  1.3816385 ],\n",
       "       [ 0.24136957,  1.13337657,  0.07615875, ..., -0.92070334,\n",
       "         0.20400935,  0.85537708],\n",
       "       ...,\n",
       "       [ 1.56947425, -0.98543931, -0.68558038, ...,  0.19199239,\n",
       "         0.47005926,  0.50240498],\n",
       "       [ 0.696168  ,  1.64337816, -0.08809124, ...,  0.75109945,\n",
       "        -1.97548777, -2.06508305],\n",
       "       [ 0.17293044,  1.05127132, -0.55991632, ..., -0.04062406,\n",
       "        -0.44272303,  1.14910819]])"
      ]
     },
     "execution_count": 3,
     "metadata": {},
     "output_type": "execute_result"
    }
   ],
   "source": [
    "X"
   ]
  },
  {
   "cell_type": "code",
   "execution_count": 4,
   "metadata": {},
   "outputs": [
    {
     "data": {
      "text/plain": [
       "(3000, 30)"
      ]
     },
     "execution_count": 4,
     "metadata": {},
     "output_type": "execute_result"
    }
   ],
   "source": [
    "X.shape"
   ]
  },
  {
   "cell_type": "code",
   "execution_count": 5,
   "metadata": {},
   "outputs": [
    {
     "data": {
      "text/plain": [
       "array([ -45.03468463, -253.02652499,  496.76697472, ...,  207.02333227,\n",
       "       -828.35114667,  -98.9642237 ])"
      ]
     },
     "execution_count": 5,
     "metadata": {},
     "output_type": "execute_result"
    }
   ],
   "source": [
    "Y"
   ]
  },
  {
   "cell_type": "markdown",
   "metadata": {},
   "source": [
    "## Converting X and Y to dataframe"
   ]
  },
  {
   "cell_type": "code",
   "execution_count": 6,
   "metadata": {},
   "outputs": [
    {
     "data": {
      "text/plain": [
       "['X1',\n",
       " 'X2',\n",
       " 'X3',\n",
       " 'X4',\n",
       " 'X5',\n",
       " 'X6',\n",
       " 'X7',\n",
       " 'X8',\n",
       " 'X9',\n",
       " 'X10',\n",
       " 'X11',\n",
       " 'X12',\n",
       " 'X13',\n",
       " 'X14',\n",
       " 'X15',\n",
       " 'X16',\n",
       " 'X17',\n",
       " 'X18',\n",
       " 'X19',\n",
       " 'X20',\n",
       " 'X21',\n",
       " 'X22',\n",
       " 'X23',\n",
       " 'X24',\n",
       " 'X25',\n",
       " 'X26',\n",
       " 'X27',\n",
       " 'X28',\n",
       " 'X29',\n",
       " 'X30']"
      ]
     },
     "execution_count": 6,
     "metadata": {},
     "output_type": "execute_result"
    }
   ],
   "source": [
    "cols=[f'X{i+1}' for i in range(30)]\n",
    "cols"
   ]
  },
  {
   "cell_type": "code",
   "execution_count": 7,
   "metadata": {},
   "outputs": [
    {
     "data": {
      "text/html": [
       "<div>\n",
       "<style scoped>\n",
       "    .dataframe tbody tr th:only-of-type {\n",
       "        vertical-align: middle;\n",
       "    }\n",
       "\n",
       "    .dataframe tbody tr th {\n",
       "        vertical-align: top;\n",
       "    }\n",
       "\n",
       "    .dataframe thead th {\n",
       "        text-align: right;\n",
       "    }\n",
       "</style>\n",
       "<table border=\"1\" class=\"dataframe\">\n",
       "  <thead>\n",
       "    <tr style=\"text-align: right;\">\n",
       "      <th></th>\n",
       "      <th>X1</th>\n",
       "      <th>X2</th>\n",
       "      <th>X3</th>\n",
       "      <th>X4</th>\n",
       "      <th>X5</th>\n",
       "      <th>X6</th>\n",
       "      <th>X7</th>\n",
       "      <th>X8</th>\n",
       "      <th>X9</th>\n",
       "      <th>X10</th>\n",
       "      <th>...</th>\n",
       "      <th>X21</th>\n",
       "      <th>X22</th>\n",
       "      <th>X23</th>\n",
       "      <th>X24</th>\n",
       "      <th>X25</th>\n",
       "      <th>X26</th>\n",
       "      <th>X27</th>\n",
       "      <th>X28</th>\n",
       "      <th>X29</th>\n",
       "      <th>X30</th>\n",
       "    </tr>\n",
       "  </thead>\n",
       "  <tbody>\n",
       "    <tr>\n",
       "      <th>0</th>\n",
       "      <td>-0.718279</td>\n",
       "      <td>-0.070074</td>\n",
       "      <td>-2.880723</td>\n",
       "      <td>-0.291797</td>\n",
       "      <td>-1.279408</td>\n",
       "      <td>0.360495</td>\n",
       "      <td>-2.030042</td>\n",
       "      <td>-0.426785</td>\n",
       "      <td>0.442853</td>\n",
       "      <td>0.112514</td>\n",
       "      <td>...</td>\n",
       "      <td>-1.379176</td>\n",
       "      <td>0.545999</td>\n",
       "      <td>-1.238762</td>\n",
       "      <td>0.210254</td>\n",
       "      <td>2.233469</td>\n",
       "      <td>0.501408</td>\n",
       "      <td>0.311878</td>\n",
       "      <td>0.558753</td>\n",
       "      <td>-0.878418</td>\n",
       "      <td>-0.311434</td>\n",
       "    </tr>\n",
       "    <tr>\n",
       "      <th>1</th>\n",
       "      <td>-0.129466</td>\n",
       "      <td>0.450910</td>\n",
       "      <td>-0.223868</td>\n",
       "      <td>-1.127200</td>\n",
       "      <td>-0.765647</td>\n",
       "      <td>-0.194988</td>\n",
       "      <td>-0.887412</td>\n",
       "      <td>0.706774</td>\n",
       "      <td>-0.341742</td>\n",
       "      <td>0.092110</td>\n",
       "      <td>...</td>\n",
       "      <td>0.767348</td>\n",
       "      <td>-1.111131</td>\n",
       "      <td>-1.120872</td>\n",
       "      <td>-0.434288</td>\n",
       "      <td>0.826882</td>\n",
       "      <td>-0.244658</td>\n",
       "      <td>0.296457</td>\n",
       "      <td>0.470384</td>\n",
       "      <td>-2.215391</td>\n",
       "      <td>1.381639</td>\n",
       "    </tr>\n",
       "    <tr>\n",
       "      <th>2</th>\n",
       "      <td>0.241370</td>\n",
       "      <td>1.133377</td>\n",
       "      <td>0.076159</td>\n",
       "      <td>-0.597106</td>\n",
       "      <td>-0.569812</td>\n",
       "      <td>-1.097820</td>\n",
       "      <td>-0.405152</td>\n",
       "      <td>0.360265</td>\n",
       "      <td>0.296881</td>\n",
       "      <td>-0.184067</td>\n",
       "      <td>...</td>\n",
       "      <td>-0.519368</td>\n",
       "      <td>1.398581</td>\n",
       "      <td>1.022523</td>\n",
       "      <td>-0.081239</td>\n",
       "      <td>0.339850</td>\n",
       "      <td>1.128266</td>\n",
       "      <td>1.101489</td>\n",
       "      <td>-0.920703</td>\n",
       "      <td>0.204009</td>\n",
       "      <td>0.855377</td>\n",
       "    </tr>\n",
       "    <tr>\n",
       "      <th>3</th>\n",
       "      <td>-0.066140</td>\n",
       "      <td>1.154356</td>\n",
       "      <td>0.065168</td>\n",
       "      <td>0.251785</td>\n",
       "      <td>-0.178338</td>\n",
       "      <td>-1.304646</td>\n",
       "      <td>-1.776299</td>\n",
       "      <td>-1.545955</td>\n",
       "      <td>-1.463394</td>\n",
       "      <td>-0.137389</td>\n",
       "      <td>...</td>\n",
       "      <td>0.376657</td>\n",
       "      <td>1.021651</td>\n",
       "      <td>1.064456</td>\n",
       "      <td>-1.066433</td>\n",
       "      <td>-1.620960</td>\n",
       "      <td>1.388090</td>\n",
       "      <td>1.764874</td>\n",
       "      <td>-0.946784</td>\n",
       "      <td>-0.095042</td>\n",
       "      <td>1.812141</td>\n",
       "    </tr>\n",
       "    <tr>\n",
       "      <th>4</th>\n",
       "      <td>0.630665</td>\n",
       "      <td>-1.333967</td>\n",
       "      <td>-0.606582</td>\n",
       "      <td>1.170996</td>\n",
       "      <td>1.342460</td>\n",
       "      <td>-1.284969</td>\n",
       "      <td>1.374057</td>\n",
       "      <td>-1.007511</td>\n",
       "      <td>-0.323503</td>\n",
       "      <td>0.265850</td>\n",
       "      <td>...</td>\n",
       "      <td>-0.500754</td>\n",
       "      <td>0.169756</td>\n",
       "      <td>0.967334</td>\n",
       "      <td>0.028729</td>\n",
       "      <td>0.757923</td>\n",
       "      <td>0.563454</td>\n",
       "      <td>0.625839</td>\n",
       "      <td>0.074512</td>\n",
       "      <td>-0.593699</td>\n",
       "      <td>-0.572639</td>\n",
       "    </tr>\n",
       "  </tbody>\n",
       "</table>\n",
       "<p>5 rows × 30 columns</p>\n",
       "</div>"
      ],
      "text/plain": [
       "         X1        X2        X3        X4        X5        X6        X7  \\\n",
       "0 -0.718279 -0.070074 -2.880723 -0.291797 -1.279408  0.360495 -2.030042   \n",
       "1 -0.129466  0.450910 -0.223868 -1.127200 -0.765647 -0.194988 -0.887412   \n",
       "2  0.241370  1.133377  0.076159 -0.597106 -0.569812 -1.097820 -0.405152   \n",
       "3 -0.066140  1.154356  0.065168  0.251785 -0.178338 -1.304646 -1.776299   \n",
       "4  0.630665 -1.333967 -0.606582  1.170996  1.342460 -1.284969  1.374057   \n",
       "\n",
       "         X8        X9       X10  ...       X21       X22       X23       X24  \\\n",
       "0 -0.426785  0.442853  0.112514  ... -1.379176  0.545999 -1.238762  0.210254   \n",
       "1  0.706774 -0.341742  0.092110  ...  0.767348 -1.111131 -1.120872 -0.434288   \n",
       "2  0.360265  0.296881 -0.184067  ... -0.519368  1.398581  1.022523 -0.081239   \n",
       "3 -1.545955 -1.463394 -0.137389  ...  0.376657  1.021651  1.064456 -1.066433   \n",
       "4 -1.007511 -0.323503  0.265850  ... -0.500754  0.169756  0.967334  0.028729   \n",
       "\n",
       "        X25       X26       X27       X28       X29       X30  \n",
       "0  2.233469  0.501408  0.311878  0.558753 -0.878418 -0.311434  \n",
       "1  0.826882 -0.244658  0.296457  0.470384 -2.215391  1.381639  \n",
       "2  0.339850  1.128266  1.101489 -0.920703  0.204009  0.855377  \n",
       "3 -1.620960  1.388090  1.764874 -0.946784 -0.095042  1.812141  \n",
       "4  0.757923  0.563454  0.625839  0.074512 -0.593699 -0.572639  \n",
       "\n",
       "[5 rows x 30 columns]"
      ]
     },
     "execution_count": 7,
     "metadata": {},
     "output_type": "execute_result"
    }
   ],
   "source": [
    "import pandas as pd\n",
    "X=pd.DataFrame(X,columns=cols)\n",
    "X.head()"
   ]
  },
  {
   "cell_type": "code",
   "execution_count": 8,
   "metadata": {},
   "outputs": [
    {
     "data": {
      "text/html": [
       "<div>\n",
       "<style scoped>\n",
       "    .dataframe tbody tr th:only-of-type {\n",
       "        vertical-align: middle;\n",
       "    }\n",
       "\n",
       "    .dataframe tbody tr th {\n",
       "        vertical-align: top;\n",
       "    }\n",
       "\n",
       "    .dataframe thead th {\n",
       "        text-align: right;\n",
       "    }\n",
       "</style>\n",
       "<table border=\"1\" class=\"dataframe\">\n",
       "  <thead>\n",
       "    <tr style=\"text-align: right;\">\n",
       "      <th></th>\n",
       "      <th>y</th>\n",
       "    </tr>\n",
       "  </thead>\n",
       "  <tbody>\n",
       "    <tr>\n",
       "      <th>0</th>\n",
       "      <td>-45.034685</td>\n",
       "    </tr>\n",
       "    <tr>\n",
       "      <th>1</th>\n",
       "      <td>-253.026525</td>\n",
       "    </tr>\n",
       "    <tr>\n",
       "      <th>2</th>\n",
       "      <td>496.766975</td>\n",
       "    </tr>\n",
       "    <tr>\n",
       "      <th>3</th>\n",
       "      <td>-4.601647</td>\n",
       "    </tr>\n",
       "    <tr>\n",
       "      <th>4</th>\n",
       "      <td>236.457790</td>\n",
       "    </tr>\n",
       "  </tbody>\n",
       "</table>\n",
       "</div>"
      ],
      "text/plain": [
       "            y\n",
       "0  -45.034685\n",
       "1 -253.026525\n",
       "2  496.766975\n",
       "3   -4.601647\n",
       "4  236.457790"
      ]
     },
     "execution_count": 8,
     "metadata": {},
     "output_type": "execute_result"
    }
   ],
   "source": [
    "Y=pd.DataFrame(Y,columns=['y'])\n",
    "Y.head()"
   ]
  },
  {
   "cell_type": "markdown",
   "metadata": {},
   "source": [
    "## Create a scikit learn pipeline for x"
   ]
  },
  {
   "cell_type": "code",
   "execution_count": 9,
   "metadata": {},
   "outputs": [],
   "source": [
    "from sklearn.pipeline import Pipeline\n",
    "from sklearn.impute import SimpleImputer\n",
    "from sklearn.preprocessing import StandardScaler"
   ]
  },
  {
   "cell_type": "code",
   "execution_count": 10,
   "metadata": {},
   "outputs": [],
   "source": [
    "num_pipe=Pipeline(steps=[('impute',SimpleImputer(strategy='mean')),\n",
    "                         ('scaler',StandardScaler())]).set_output(transform='pandas')"
   ]
  },
  {
   "cell_type": "code",
   "execution_count": 11,
   "metadata": {},
   "outputs": [
    {
     "data": {
      "text/html": [
       "<div>\n",
       "<style scoped>\n",
       "    .dataframe tbody tr th:only-of-type {\n",
       "        vertical-align: middle;\n",
       "    }\n",
       "\n",
       "    .dataframe tbody tr th {\n",
       "        vertical-align: top;\n",
       "    }\n",
       "\n",
       "    .dataframe thead th {\n",
       "        text-align: right;\n",
       "    }\n",
       "</style>\n",
       "<table border=\"1\" class=\"dataframe\">\n",
       "  <thead>\n",
       "    <tr style=\"text-align: right;\">\n",
       "      <th></th>\n",
       "      <th>X1</th>\n",
       "      <th>X2</th>\n",
       "      <th>X3</th>\n",
       "      <th>X4</th>\n",
       "      <th>X5</th>\n",
       "      <th>X6</th>\n",
       "      <th>X7</th>\n",
       "      <th>X8</th>\n",
       "      <th>X9</th>\n",
       "      <th>X10</th>\n",
       "      <th>...</th>\n",
       "      <th>X21</th>\n",
       "      <th>X22</th>\n",
       "      <th>X23</th>\n",
       "      <th>X24</th>\n",
       "      <th>X25</th>\n",
       "      <th>X26</th>\n",
       "      <th>X27</th>\n",
       "      <th>X28</th>\n",
       "      <th>X29</th>\n",
       "      <th>X30</th>\n",
       "    </tr>\n",
       "  </thead>\n",
       "  <tbody>\n",
       "    <tr>\n",
       "      <th>0</th>\n",
       "      <td>-0.688919</td>\n",
       "      <td>-0.057155</td>\n",
       "      <td>-2.863120</td>\n",
       "      <td>-0.305510</td>\n",
       "      <td>-1.275101</td>\n",
       "      <td>0.352911</td>\n",
       "      <td>-1.974449</td>\n",
       "      <td>-0.412523</td>\n",
       "      <td>0.431024</td>\n",
       "      <td>0.109518</td>\n",
       "      <td>...</td>\n",
       "      <td>-1.402585</td>\n",
       "      <td>0.574088</td>\n",
       "      <td>-1.226719</td>\n",
       "      <td>0.191083</td>\n",
       "      <td>2.186029</td>\n",
       "      <td>0.475576</td>\n",
       "      <td>0.347794</td>\n",
       "      <td>0.578474</td>\n",
       "      <td>-0.918601</td>\n",
       "      <td>-0.325387</td>\n",
       "    </tr>\n",
       "    <tr>\n",
       "      <th>1</th>\n",
       "      <td>-0.105807</td>\n",
       "      <td>0.470406</td>\n",
       "      <td>-0.205413</td>\n",
       "      <td>-1.147154</td>\n",
       "      <td>-0.763248</td>\n",
       "      <td>-0.201377</td>\n",
       "      <td>-0.849465</td>\n",
       "      <td>0.716442</td>\n",
       "      <td>-0.367298</td>\n",
       "      <td>0.090012</td>\n",
       "      <td>...</td>\n",
       "      <td>0.772182</td>\n",
       "      <td>-1.104212</td>\n",
       "      <td>-1.110130</td>\n",
       "      <td>-0.448803</td>\n",
       "      <td>0.802196</td>\n",
       "      <td>-0.276927</td>\n",
       "      <td>0.332451</td>\n",
       "      <td>0.489438</td>\n",
       "      <td>-2.268167</td>\n",
       "      <td>1.395733</td>\n",
       "    </tr>\n",
       "    <tr>\n",
       "      <th>2</th>\n",
       "      <td>0.261436</td>\n",
       "      <td>1.161488</td>\n",
       "      <td>0.094710</td>\n",
       "      <td>-0.613100</td>\n",
       "      <td>-0.568141</td>\n",
       "      <td>-1.102267</td>\n",
       "      <td>-0.374652</td>\n",
       "      <td>0.371337</td>\n",
       "      <td>0.282499</td>\n",
       "      <td>-0.174010</td>\n",
       "      <td>...</td>\n",
       "      <td>-0.531464</td>\n",
       "      <td>1.437562</td>\n",
       "      <td>1.009621</td>\n",
       "      <td>-0.098304</td>\n",
       "      <td>0.323041</td>\n",
       "      <td>1.107841</td>\n",
       "      <td>1.133389</td>\n",
       "      <td>-0.912149</td>\n",
       "      <td>0.174020</td>\n",
       "      <td>0.860754</td>\n",
       "    </tr>\n",
       "    <tr>\n",
       "      <th>3</th>\n",
       "      <td>-0.043094</td>\n",
       "      <td>1.182733</td>\n",
       "      <td>0.083716</td>\n",
       "      <td>0.242134</td>\n",
       "      <td>-0.178121</td>\n",
       "      <td>-1.308648</td>\n",
       "      <td>-1.724625</td>\n",
       "      <td>-1.527157</td>\n",
       "      <td>-1.508573</td>\n",
       "      <td>-0.129386</td>\n",
       "      <td>...</td>\n",
       "      <td>0.376350</td>\n",
       "      <td>1.055817</td>\n",
       "      <td>1.051092</td>\n",
       "      <td>-1.076381</td>\n",
       "      <td>-1.606051</td>\n",
       "      <td>1.369906</td>\n",
       "      <td>1.793399</td>\n",
       "      <td>-0.938426</td>\n",
       "      <td>-0.127848</td>\n",
       "      <td>1.833367</td>\n",
       "    </tr>\n",
       "    <tr>\n",
       "      <th>4</th>\n",
       "      <td>0.646962</td>\n",
       "      <td>-1.337003</td>\n",
       "      <td>-0.588250</td>\n",
       "      <td>1.168212</td>\n",
       "      <td>1.337030</td>\n",
       "      <td>-1.289013</td>\n",
       "      <td>1.377081</td>\n",
       "      <td>-0.990895</td>\n",
       "      <td>-0.348739</td>\n",
       "      <td>0.256105</td>\n",
       "      <td>...</td>\n",
       "      <td>-0.512606</td>\n",
       "      <td>0.193039</td>\n",
       "      <td>0.955041</td>\n",
       "      <td>0.010869</td>\n",
       "      <td>0.734352</td>\n",
       "      <td>0.538156</td>\n",
       "      <td>0.660157</td>\n",
       "      <td>0.090578</td>\n",
       "      <td>-0.631202</td>\n",
       "      <td>-0.590918</td>\n",
       "    </tr>\n",
       "  </tbody>\n",
       "</table>\n",
       "<p>5 rows × 30 columns</p>\n",
       "</div>"
      ],
      "text/plain": [
       "         X1        X2        X3        X4        X5        X6        X7  \\\n",
       "0 -0.688919 -0.057155 -2.863120 -0.305510 -1.275101  0.352911 -1.974449   \n",
       "1 -0.105807  0.470406 -0.205413 -1.147154 -0.763248 -0.201377 -0.849465   \n",
       "2  0.261436  1.161488  0.094710 -0.613100 -0.568141 -1.102267 -0.374652   \n",
       "3 -0.043094  1.182733  0.083716  0.242134 -0.178121 -1.308648 -1.724625   \n",
       "4  0.646962 -1.337003 -0.588250  1.168212  1.337030 -1.289013  1.377081   \n",
       "\n",
       "         X8        X9       X10  ...       X21       X22       X23       X24  \\\n",
       "0 -0.412523  0.431024  0.109518  ... -1.402585  0.574088 -1.226719  0.191083   \n",
       "1  0.716442 -0.367298  0.090012  ...  0.772182 -1.104212 -1.110130 -0.448803   \n",
       "2  0.371337  0.282499 -0.174010  ... -0.531464  1.437562  1.009621 -0.098304   \n",
       "3 -1.527157 -1.508573 -0.129386  ...  0.376350  1.055817  1.051092 -1.076381   \n",
       "4 -0.990895 -0.348739  0.256105  ... -0.512606  0.193039  0.955041  0.010869   \n",
       "\n",
       "        X25       X26       X27       X28       X29       X30  \n",
       "0  2.186029  0.475576  0.347794  0.578474 -0.918601 -0.325387  \n",
       "1  0.802196 -0.276927  0.332451  0.489438 -2.268167  1.395733  \n",
       "2  0.323041  1.107841  1.133389 -0.912149  0.174020  0.860754  \n",
       "3 -1.606051  1.369906  1.793399 -0.938426 -0.127848  1.833367  \n",
       "4  0.734352  0.538156  0.660157  0.090578 -0.631202 -0.590918  \n",
       "\n",
       "[5 rows x 30 columns]"
      ]
     },
     "execution_count": 11,
     "metadata": {},
     "output_type": "execute_result"
    }
   ],
   "source": [
    "X_pre=num_pipe.fit_transform(X)\n",
    "X_pre.head()"
   ]
  },
  {
   "cell_type": "markdown",
   "metadata": {},
   "source": [
    "## Apply train test split"
   ]
  },
  {
   "cell_type": "code",
   "execution_count": 12,
   "metadata": {},
   "outputs": [],
   "source": [
    "from sklearn.model_selection import train_test_split\n",
    "xtrain,xtest,ytrain,ytest=train_test_split(X_pre,Y,test_size=0.2,random_state=21)"
   ]
  },
  {
   "cell_type": "code",
   "execution_count": 13,
   "metadata": {},
   "outputs": [
    {
     "data": {
      "text/html": [
       "<div>\n",
       "<style scoped>\n",
       "    .dataframe tbody tr th:only-of-type {\n",
       "        vertical-align: middle;\n",
       "    }\n",
       "\n",
       "    .dataframe tbody tr th {\n",
       "        vertical-align: top;\n",
       "    }\n",
       "\n",
       "    .dataframe thead th {\n",
       "        text-align: right;\n",
       "    }\n",
       "</style>\n",
       "<table border=\"1\" class=\"dataframe\">\n",
       "  <thead>\n",
       "    <tr style=\"text-align: right;\">\n",
       "      <th></th>\n",
       "      <th>X1</th>\n",
       "      <th>X2</th>\n",
       "      <th>X3</th>\n",
       "      <th>X4</th>\n",
       "      <th>X5</th>\n",
       "      <th>X6</th>\n",
       "      <th>X7</th>\n",
       "      <th>X8</th>\n",
       "      <th>X9</th>\n",
       "      <th>X10</th>\n",
       "      <th>...</th>\n",
       "      <th>X21</th>\n",
       "      <th>X22</th>\n",
       "      <th>X23</th>\n",
       "      <th>X24</th>\n",
       "      <th>X25</th>\n",
       "      <th>X26</th>\n",
       "      <th>X27</th>\n",
       "      <th>X28</th>\n",
       "      <th>X29</th>\n",
       "      <th>X30</th>\n",
       "    </tr>\n",
       "  </thead>\n",
       "  <tbody>\n",
       "    <tr>\n",
       "      <th>1643</th>\n",
       "      <td>0.052039</td>\n",
       "      <td>-0.940475</td>\n",
       "      <td>-0.943021</td>\n",
       "      <td>-0.987331</td>\n",
       "      <td>1.090220</td>\n",
       "      <td>1.585467</td>\n",
       "      <td>-0.678379</td>\n",
       "      <td>-1.139013</td>\n",
       "      <td>-0.171146</td>\n",
       "      <td>-1.170170</td>\n",
       "      <td>...</td>\n",
       "      <td>0.922744</td>\n",
       "      <td>0.526633</td>\n",
       "      <td>0.016138</td>\n",
       "      <td>0.607965</td>\n",
       "      <td>0.333314</td>\n",
       "      <td>-1.520318</td>\n",
       "      <td>0.257526</td>\n",
       "      <td>-0.046280</td>\n",
       "      <td>0.278598</td>\n",
       "      <td>0.122691</td>\n",
       "    </tr>\n",
       "    <tr>\n",
       "      <th>137</th>\n",
       "      <td>1.253791</td>\n",
       "      <td>-0.710742</td>\n",
       "      <td>-1.791321</td>\n",
       "      <td>1.539163</td>\n",
       "      <td>-1.114221</td>\n",
       "      <td>1.012629</td>\n",
       "      <td>0.244713</td>\n",
       "      <td>-1.926104</td>\n",
       "      <td>-0.445870</td>\n",
       "      <td>-0.629977</td>\n",
       "      <td>...</td>\n",
       "      <td>-1.077994</td>\n",
       "      <td>-0.744548</td>\n",
       "      <td>-1.040224</td>\n",
       "      <td>0.435301</td>\n",
       "      <td>-0.454281</td>\n",
       "      <td>1.101016</td>\n",
       "      <td>-0.416873</td>\n",
       "      <td>-0.970135</td>\n",
       "      <td>-0.663722</td>\n",
       "      <td>0.115474</td>\n",
       "    </tr>\n",
       "    <tr>\n",
       "      <th>1205</th>\n",
       "      <td>0.252961</td>\n",
       "      <td>-0.020081</td>\n",
       "      <td>-0.787437</td>\n",
       "      <td>1.481952</td>\n",
       "      <td>-0.891972</td>\n",
       "      <td>0.763080</td>\n",
       "      <td>0.103481</td>\n",
       "      <td>-0.422697</td>\n",
       "      <td>-0.032422</td>\n",
       "      <td>-0.897198</td>\n",
       "      <td>...</td>\n",
       "      <td>-0.213005</td>\n",
       "      <td>-0.275669</td>\n",
       "      <td>0.743194</td>\n",
       "      <td>-0.255197</td>\n",
       "      <td>-0.662567</td>\n",
       "      <td>-0.740384</td>\n",
       "      <td>1.096108</td>\n",
       "      <td>2.044021</td>\n",
       "      <td>-1.143672</td>\n",
       "      <td>0.657581</td>\n",
       "    </tr>\n",
       "    <tr>\n",
       "      <th>523</th>\n",
       "      <td>0.522782</td>\n",
       "      <td>-0.644630</td>\n",
       "      <td>-0.164250</td>\n",
       "      <td>-0.473433</td>\n",
       "      <td>1.297058</td>\n",
       "      <td>1.305110</td>\n",
       "      <td>0.098092</td>\n",
       "      <td>-0.510435</td>\n",
       "      <td>1.836239</td>\n",
       "      <td>0.641412</td>\n",
       "      <td>...</td>\n",
       "      <td>-0.738259</td>\n",
       "      <td>1.205840</td>\n",
       "      <td>1.346459</td>\n",
       "      <td>0.796726</td>\n",
       "      <td>1.464666</td>\n",
       "      <td>1.285444</td>\n",
       "      <td>-0.318203</td>\n",
       "      <td>1.055037</td>\n",
       "      <td>1.077651</td>\n",
       "      <td>-0.034905</td>\n",
       "    </tr>\n",
       "    <tr>\n",
       "      <th>1493</th>\n",
       "      <td>-0.257471</td>\n",
       "      <td>0.131504</td>\n",
       "      <td>-0.411423</td>\n",
       "      <td>0.237039</td>\n",
       "      <td>1.631228</td>\n",
       "      <td>1.070852</td>\n",
       "      <td>-1.716534</td>\n",
       "      <td>-1.038329</td>\n",
       "      <td>0.608915</td>\n",
       "      <td>0.980584</td>\n",
       "      <td>...</td>\n",
       "      <td>-1.106273</td>\n",
       "      <td>-0.672314</td>\n",
       "      <td>-0.409232</td>\n",
       "      <td>-0.574227</td>\n",
       "      <td>-0.049304</td>\n",
       "      <td>-1.098888</td>\n",
       "      <td>0.582422</td>\n",
       "      <td>-1.028832</td>\n",
       "      <td>1.017513</td>\n",
       "      <td>1.018863</td>\n",
       "    </tr>\n",
       "  </tbody>\n",
       "</table>\n",
       "<p>5 rows × 30 columns</p>\n",
       "</div>"
      ],
      "text/plain": [
       "            X1        X2        X3        X4        X5        X6        X7  \\\n",
       "1643  0.052039 -0.940475 -0.943021 -0.987331  1.090220  1.585467 -0.678379   \n",
       "137   1.253791 -0.710742 -1.791321  1.539163 -1.114221  1.012629  0.244713   \n",
       "1205  0.252961 -0.020081 -0.787437  1.481952 -0.891972  0.763080  0.103481   \n",
       "523   0.522782 -0.644630 -0.164250 -0.473433  1.297058  1.305110  0.098092   \n",
       "1493 -0.257471  0.131504 -0.411423  0.237039  1.631228  1.070852 -1.716534   \n",
       "\n",
       "            X8        X9       X10  ...       X21       X22       X23  \\\n",
       "1643 -1.139013 -0.171146 -1.170170  ...  0.922744  0.526633  0.016138   \n",
       "137  -1.926104 -0.445870 -0.629977  ... -1.077994 -0.744548 -1.040224   \n",
       "1205 -0.422697 -0.032422 -0.897198  ... -0.213005 -0.275669  0.743194   \n",
       "523  -0.510435  1.836239  0.641412  ... -0.738259  1.205840  1.346459   \n",
       "1493 -1.038329  0.608915  0.980584  ... -1.106273 -0.672314 -0.409232   \n",
       "\n",
       "           X24       X25       X26       X27       X28       X29       X30  \n",
       "1643  0.607965  0.333314 -1.520318  0.257526 -0.046280  0.278598  0.122691  \n",
       "137   0.435301 -0.454281  1.101016 -0.416873 -0.970135 -0.663722  0.115474  \n",
       "1205 -0.255197 -0.662567 -0.740384  1.096108  2.044021 -1.143672  0.657581  \n",
       "523   0.796726  1.464666  1.285444 -0.318203  1.055037  1.077651 -0.034905  \n",
       "1493 -0.574227 -0.049304 -1.098888  0.582422 -1.028832  1.017513  1.018863  \n",
       "\n",
       "[5 rows x 30 columns]"
      ]
     },
     "execution_count": 13,
     "metadata": {},
     "output_type": "execute_result"
    }
   ],
   "source": [
    "xtrain.head()"
   ]
  },
  {
   "cell_type": "code",
   "execution_count": 14,
   "metadata": {},
   "outputs": [
    {
     "data": {
      "text/html": [
       "<div>\n",
       "<style scoped>\n",
       "    .dataframe tbody tr th:only-of-type {\n",
       "        vertical-align: middle;\n",
       "    }\n",
       "\n",
       "    .dataframe tbody tr th {\n",
       "        vertical-align: top;\n",
       "    }\n",
       "\n",
       "    .dataframe thead th {\n",
       "        text-align: right;\n",
       "    }\n",
       "</style>\n",
       "<table border=\"1\" class=\"dataframe\">\n",
       "  <thead>\n",
       "    <tr style=\"text-align: right;\">\n",
       "      <th></th>\n",
       "      <th>y</th>\n",
       "    </tr>\n",
       "  </thead>\n",
       "  <tbody>\n",
       "    <tr>\n",
       "      <th>1643</th>\n",
       "      <td>112.433915</td>\n",
       "    </tr>\n",
       "    <tr>\n",
       "      <th>137</th>\n",
       "      <td>-1083.527732</td>\n",
       "    </tr>\n",
       "    <tr>\n",
       "      <th>1205</th>\n",
       "      <td>-128.674183</td>\n",
       "    </tr>\n",
       "    <tr>\n",
       "      <th>523</th>\n",
       "      <td>761.187440</td>\n",
       "    </tr>\n",
       "    <tr>\n",
       "      <th>1493</th>\n",
       "      <td>-172.902429</td>\n",
       "    </tr>\n",
       "  </tbody>\n",
       "</table>\n",
       "</div>"
      ],
      "text/plain": [
       "                y\n",
       "1643   112.433915\n",
       "137  -1083.527732\n",
       "1205  -128.674183\n",
       "523    761.187440\n",
       "1493  -172.902429"
      ]
     },
     "execution_count": 14,
     "metadata": {},
     "output_type": "execute_result"
    }
   ],
   "source": [
    "ytrain.head()"
   ]
  },
  {
   "cell_type": "code",
   "execution_count": 15,
   "metadata": {},
   "outputs": [
    {
     "data": {
      "text/html": [
       "<div>\n",
       "<style scoped>\n",
       "    .dataframe tbody tr th:only-of-type {\n",
       "        vertical-align: middle;\n",
       "    }\n",
       "\n",
       "    .dataframe tbody tr th {\n",
       "        vertical-align: top;\n",
       "    }\n",
       "\n",
       "    .dataframe thead th {\n",
       "        text-align: right;\n",
       "    }\n",
       "</style>\n",
       "<table border=\"1\" class=\"dataframe\">\n",
       "  <thead>\n",
       "    <tr style=\"text-align: right;\">\n",
       "      <th></th>\n",
       "      <th>X1</th>\n",
       "      <th>X2</th>\n",
       "      <th>X3</th>\n",
       "      <th>X4</th>\n",
       "      <th>X5</th>\n",
       "      <th>X6</th>\n",
       "      <th>X7</th>\n",
       "      <th>X8</th>\n",
       "      <th>X9</th>\n",
       "      <th>X10</th>\n",
       "      <th>...</th>\n",
       "      <th>X21</th>\n",
       "      <th>X22</th>\n",
       "      <th>X23</th>\n",
       "      <th>X24</th>\n",
       "      <th>X25</th>\n",
       "      <th>X26</th>\n",
       "      <th>X27</th>\n",
       "      <th>X28</th>\n",
       "      <th>X29</th>\n",
       "      <th>X30</th>\n",
       "    </tr>\n",
       "  </thead>\n",
       "  <tbody>\n",
       "    <tr>\n",
       "      <th>465</th>\n",
       "      <td>-0.169150</td>\n",
       "      <td>0.409952</td>\n",
       "      <td>1.307803</td>\n",
       "      <td>0.700982</td>\n",
       "      <td>-0.022220</td>\n",
       "      <td>-0.114715</td>\n",
       "      <td>-0.166075</td>\n",
       "      <td>1.478153</td>\n",
       "      <td>-0.395357</td>\n",
       "      <td>-0.013553</td>\n",
       "      <td>...</td>\n",
       "      <td>-0.833916</td>\n",
       "      <td>1.384411</td>\n",
       "      <td>0.676108</td>\n",
       "      <td>-0.296128</td>\n",
       "      <td>-0.309297</td>\n",
       "      <td>0.556642</td>\n",
       "      <td>0.432878</td>\n",
       "      <td>-0.163328</td>\n",
       "      <td>-1.799377</td>\n",
       "      <td>0.075014</td>\n",
       "    </tr>\n",
       "    <tr>\n",
       "      <th>904</th>\n",
       "      <td>0.637073</td>\n",
       "      <td>-1.927265</td>\n",
       "      <td>1.005873</td>\n",
       "      <td>0.295788</td>\n",
       "      <td>-1.197994</td>\n",
       "      <td>1.168578</td>\n",
       "      <td>-0.009949</td>\n",
       "      <td>-1.740025</td>\n",
       "      <td>-0.893787</td>\n",
       "      <td>-1.032446</td>\n",
       "      <td>...</td>\n",
       "      <td>0.375229</td>\n",
       "      <td>0.321581</td>\n",
       "      <td>1.098016</td>\n",
       "      <td>-2.367612</td>\n",
       "      <td>-2.161798</td>\n",
       "      <td>0.942354</td>\n",
       "      <td>0.164110</td>\n",
       "      <td>-0.625070</td>\n",
       "      <td>1.951268</td>\n",
       "      <td>-0.588490</td>\n",
       "    </tr>\n",
       "    <tr>\n",
       "      <th>2639</th>\n",
       "      <td>1.505908</td>\n",
       "      <td>0.342662</td>\n",
       "      <td>1.049776</td>\n",
       "      <td>0.563217</td>\n",
       "      <td>1.272666</td>\n",
       "      <td>0.319483</td>\n",
       "      <td>-0.145469</td>\n",
       "      <td>0.724367</td>\n",
       "      <td>-0.875059</td>\n",
       "      <td>1.157968</td>\n",
       "      <td>...</td>\n",
       "      <td>-0.361983</td>\n",
       "      <td>-0.488970</td>\n",
       "      <td>1.633057</td>\n",
       "      <td>-0.719981</td>\n",
       "      <td>-0.043802</td>\n",
       "      <td>0.555418</td>\n",
       "      <td>1.668127</td>\n",
       "      <td>1.919041</td>\n",
       "      <td>-0.105455</td>\n",
       "      <td>0.233323</td>\n",
       "    </tr>\n",
       "    <tr>\n",
       "      <th>2125</th>\n",
       "      <td>0.700346</td>\n",
       "      <td>2.323657</td>\n",
       "      <td>-0.405742</td>\n",
       "      <td>-0.849900</td>\n",
       "      <td>0.199404</td>\n",
       "      <td>-0.194465</td>\n",
       "      <td>-0.126883</td>\n",
       "      <td>-0.110462</td>\n",
       "      <td>2.882282</td>\n",
       "      <td>0.295011</td>\n",
       "      <td>...</td>\n",
       "      <td>-0.451245</td>\n",
       "      <td>0.431099</td>\n",
       "      <td>-0.411627</td>\n",
       "      <td>0.764152</td>\n",
       "      <td>1.172289</td>\n",
       "      <td>-0.002425</td>\n",
       "      <td>-0.254325</td>\n",
       "      <td>-2.008459</td>\n",
       "      <td>0.353949</td>\n",
       "      <td>0.749569</td>\n",
       "    </tr>\n",
       "    <tr>\n",
       "      <th>1962</th>\n",
       "      <td>0.222637</td>\n",
       "      <td>0.279963</td>\n",
       "      <td>-1.257113</td>\n",
       "      <td>0.583550</td>\n",
       "      <td>-0.564966</td>\n",
       "      <td>-1.512064</td>\n",
       "      <td>0.678992</td>\n",
       "      <td>-2.255414</td>\n",
       "      <td>1.393263</td>\n",
       "      <td>0.905597</td>\n",
       "      <td>...</td>\n",
       "      <td>-0.992292</td>\n",
       "      <td>-0.802682</td>\n",
       "      <td>0.288486</td>\n",
       "      <td>-0.037195</td>\n",
       "      <td>-0.669431</td>\n",
       "      <td>0.305328</td>\n",
       "      <td>-1.311686</td>\n",
       "      <td>-1.082929</td>\n",
       "      <td>1.749682</td>\n",
       "      <td>-1.388976</td>\n",
       "    </tr>\n",
       "  </tbody>\n",
       "</table>\n",
       "<p>5 rows × 30 columns</p>\n",
       "</div>"
      ],
      "text/plain": [
       "            X1        X2        X3        X4        X5        X6        X7  \\\n",
       "465  -0.169150  0.409952  1.307803  0.700982 -0.022220 -0.114715 -0.166075   \n",
       "904   0.637073 -1.927265  1.005873  0.295788 -1.197994  1.168578 -0.009949   \n",
       "2639  1.505908  0.342662  1.049776  0.563217  1.272666  0.319483 -0.145469   \n",
       "2125  0.700346  2.323657 -0.405742 -0.849900  0.199404 -0.194465 -0.126883   \n",
       "1962  0.222637  0.279963 -1.257113  0.583550 -0.564966 -1.512064  0.678992   \n",
       "\n",
       "            X8        X9       X10  ...       X21       X22       X23  \\\n",
       "465   1.478153 -0.395357 -0.013553  ... -0.833916  1.384411  0.676108   \n",
       "904  -1.740025 -0.893787 -1.032446  ...  0.375229  0.321581  1.098016   \n",
       "2639  0.724367 -0.875059  1.157968  ... -0.361983 -0.488970  1.633057   \n",
       "2125 -0.110462  2.882282  0.295011  ... -0.451245  0.431099 -0.411627   \n",
       "1962 -2.255414  1.393263  0.905597  ... -0.992292 -0.802682  0.288486   \n",
       "\n",
       "           X24       X25       X26       X27       X28       X29       X30  \n",
       "465  -0.296128 -0.309297  0.556642  0.432878 -0.163328 -1.799377  0.075014  \n",
       "904  -2.367612 -2.161798  0.942354  0.164110 -0.625070  1.951268 -0.588490  \n",
       "2639 -0.719981 -0.043802  0.555418  1.668127  1.919041 -0.105455  0.233323  \n",
       "2125  0.764152  1.172289 -0.002425 -0.254325 -2.008459  0.353949  0.749569  \n",
       "1962 -0.037195 -0.669431  0.305328 -1.311686 -1.082929  1.749682 -1.388976  \n",
       "\n",
       "[5 rows x 30 columns]"
      ]
     },
     "execution_count": 15,
     "metadata": {},
     "output_type": "execute_result"
    }
   ],
   "source": [
    "xtest.head()"
   ]
  },
  {
   "cell_type": "code",
   "execution_count": 16,
   "metadata": {},
   "outputs": [
    {
     "data": {
      "text/html": [
       "<div>\n",
       "<style scoped>\n",
       "    .dataframe tbody tr th:only-of-type {\n",
       "        vertical-align: middle;\n",
       "    }\n",
       "\n",
       "    .dataframe tbody tr th {\n",
       "        vertical-align: top;\n",
       "    }\n",
       "\n",
       "    .dataframe thead th {\n",
       "        text-align: right;\n",
       "    }\n",
       "</style>\n",
       "<table border=\"1\" class=\"dataframe\">\n",
       "  <thead>\n",
       "    <tr style=\"text-align: right;\">\n",
       "      <th></th>\n",
       "      <th>y</th>\n",
       "    </tr>\n",
       "  </thead>\n",
       "  <tbody>\n",
       "    <tr>\n",
       "      <th>465</th>\n",
       "      <td>-153.360317</td>\n",
       "    </tr>\n",
       "    <tr>\n",
       "      <th>904</th>\n",
       "      <td>-827.315745</td>\n",
       "    </tr>\n",
       "    <tr>\n",
       "      <th>2639</th>\n",
       "      <td>715.436126</td>\n",
       "    </tr>\n",
       "    <tr>\n",
       "      <th>2125</th>\n",
       "      <td>528.030227</td>\n",
       "    </tr>\n",
       "    <tr>\n",
       "      <th>1962</th>\n",
       "      <td>-44.600383</td>\n",
       "    </tr>\n",
       "  </tbody>\n",
       "</table>\n",
       "</div>"
      ],
      "text/plain": [
       "               y\n",
       "465  -153.360317\n",
       "904  -827.315745\n",
       "2639  715.436126\n",
       "2125  528.030227\n",
       "1962  -44.600383"
      ]
     },
     "execution_count": 16,
     "metadata": {},
     "output_type": "execute_result"
    }
   ],
   "source": [
    "ytest.head()"
   ]
  },
  {
   "cell_type": "markdown",
   "metadata": {},
   "source": [
    "## Build a Neural network"
   ]
  },
  {
   "attachments": {
    "image.png": {
     "image/png": "[encoded data removed]"
    }
   },
   "cell_type": "markdown",
   "metadata": {},
   "source": [
    "![image.png](attachment:image.png)"
   ]
  },
  {
   "cell_type": "code",
   "execution_count": 17,
   "metadata": {},
   "outputs": [
    {
     "data": {
      "text/plain": [
       "(2400, 30)"
      ]
     },
     "execution_count": 17,
     "metadata": {},
     "output_type": "execute_result"
    }
   ],
   "source": [
    "xtrain.shape"
   ]
  },
  {
   "cell_type": "code",
   "execution_count": 18,
   "metadata": {},
   "outputs": [
    {
     "data": {
      "text/plain": [
       "30"
      ]
     },
     "execution_count": 18,
     "metadata": {},
     "output_type": "execute_result"
    }
   ],
   "source": [
    "xtrain.shape[1]"
   ]
  },
  {
   "cell_type": "code",
   "execution_count": 19,
   "metadata": {},
   "outputs": [
    {
     "name": "stdout",
     "output_type": "stream",
     "text": [
      "WARNING:tensorflow:From d:\\ETLhive_DataScience\\Deep-Learning\\repository\\venv\\Lib\\site-packages\\keras\\src\\losses.py:2976: The name tf.losses.sparse_softmax_cross_entropy is deprecated. Please use tf.compat.v1.losses.sparse_softmax_cross_entropy instead.\n",
      "\n"
     ]
    }
   ],
   "source": [
    "from keras.models import Sequential\n",
    "from keras.layers import Dense"
   ]
  },
  {
   "cell_type": "code",
   "execution_count": 20,
   "metadata": {},
   "outputs": [
    {
     "name": "stdout",
     "output_type": "stream",
     "text": [
      "WARNING:tensorflow:From d:\\ETLhive_DataScience\\Deep-Learning\\repository\\venv\\Lib\\site-packages\\keras\\src\\backend.py:873: The name tf.get_default_graph is deprecated. Please use tf.compat.v1.get_default_graph instead.\n",
      "\n"
     ]
    }
   ],
   "source": [
    "#Initialize the neural network\n",
    "model=Sequential()\n",
    "\n",
    "#create hidden layer 1\n",
    "model.add(Dense(units=64,activation='relu',input_shape=(xtrain.shape[1],)))\n",
    "\n",
    "#create 2nd hidden layer with 32\n",
    "model.add(Dense(units=32,activation='relu'))\n",
    "\n",
    "#create a output layer\n",
    "model.add(Dense(units=1,activation='linear'))"
   ]
  },
  {
   "cell_type": "markdown",
   "metadata": {},
   "source": [
    "## Compiling the model"
   ]
  },
  {
   "cell_type": "code",
   "execution_count": 21,
   "metadata": {},
   "outputs": [
    {
     "name": "stdout",
     "output_type": "stream",
     "text": [
      "WARNING:tensorflow:From d:\\ETLhive_DataScience\\Deep-Learning\\repository\\venv\\Lib\\site-packages\\keras\\src\\optimizers\\__init__.py:309: The name tf.train.Optimizer is deprecated. Please use tf.compat.v1.train.Optimizer instead.\n",
      "\n"
     ]
    }
   ],
   "source": [
    "model.compile(optimizer='adam',loss='mse',metrics=['mae'])"
   ]
  },
  {
   "attachments": {
    "image.png": {
     "image/png": "[encoded data removed]"
    }
   },
   "cell_type": "markdown",
   "metadata": {},
   "source": [
    "![image.png](attachment:image.png)"
   ]
  },
  {
   "cell_type": "code",
   "execution_count": 22,
   "metadata": {},
   "outputs": [
    {
     "name": "stdout",
     "output_type": "stream",
     "text": [
      "Epoch 1/100\n",
      "WARNING:tensorflow:From d:\\ETLhive_DataScience\\Deep-Learning\\repository\\venv\\Lib\\site-packages\\keras\\src\\utils\\tf_utils.py:492: The name tf.ragged.RaggedTensorValue is deprecated. Please use tf.compat.v1.ragged.RaggedTensorValue instead.\n",
      "\n",
      "WARNING:tensorflow:From d:\\ETLhive_DataScience\\Deep-Learning\\repository\\venv\\Lib\\site-packages\\keras\\src\\engine\\base_layer_utils.py:384: The name tf.executing_eagerly_outside_functions is deprecated. Please use tf.compat.v1.executing_eagerly_outside_functions instead.\n",
      "\n",
      "60/60 [==============================] - 9s 52ms/step - loss: 112436.0078 - mae: 265.5072 - val_loss: 115475.3359 - val_mae: 271.6050\n",
      "Epoch 2/100\n",
      "60/60 [==============================] - 1s 11ms/step - loss: 109486.5547 - mae: 261.8599 - val_loss: 109302.4297 - val_mae: 264.0644\n",
      "Epoch 3/100\n",
      "60/60 [==============================] - 0s 8ms/step - loss: 96600.7891 - mae: 245.1250 - val_loss: 88584.8516 - val_mae: 236.4055\n",
      "Epoch 4/100\n",
      "60/60 [==============================] - 0s 6ms/step - loss: 67702.0547 - mae: 201.5501 - val_loss: 53149.1211 - val_mae: 178.6188\n",
      "Epoch 5/100\n",
      "60/60 [==============================] - 0s 6ms/step - loss: 32984.6211 - mae: 131.6036 - val_loss: 21207.5840 - val_mae: 103.4736\n",
      "Epoch 6/100\n",
      "60/60 [==============================] - 1s 9ms/step - loss: 11154.8896 - mae: 70.2491 - val_loss: 6402.2134 - val_mae: 51.3805\n",
      "Epoch 7/100\n",
      "60/60 [==============================] - 0s 8ms/step - loss: 3407.9949 - mae: 39.7523 - val_loss: 2274.2092 - val_mae: 32.4102\n",
      "Epoch 8/100\n",
      "60/60 [==============================] - 1s 10ms/step - loss: 1637.0167 - mae: 29.9255 - val_loss: 1398.2631 - val_mae: 27.4091\n",
      "Epoch 9/100\n",
      "60/60 [==============================] - 1s 13ms/step - loss: 1103.1255 - mae: 25.3632 - val_loss: 988.8347 - val_mae: 23.2540\n",
      "Epoch 10/100\n",
      "60/60 [==============================] - 0s 8ms/step - loss: 834.8711 - mae: 22.1019 - val_loss: 774.4853 - val_mae: 21.3279\n",
      "Epoch 11/100\n",
      "60/60 [==============================] - 1s 17ms/step - loss: 714.3521 - mae: 20.6434 - val_loss: 684.1300 - val_mae: 20.5419\n",
      "Epoch 12/100\n",
      "60/60 [==============================] - 1s 20ms/step - loss: 660.8144 - mae: 20.2431 - val_loss: 651.4189 - val_mae: 19.7307\n",
      "Epoch 13/100\n",
      "60/60 [==============================] - 1s 10ms/step - loss: 621.7326 - mae: 19.5826 - val_loss: 621.7772 - val_mae: 19.2101\n",
      "Epoch 14/100\n",
      "60/60 [==============================] - 0s 7ms/step - loss: 596.1356 - mae: 19.2433 - val_loss: 595.3868 - val_mae: 18.9341\n",
      "Epoch 15/100\n",
      "60/60 [==============================] - 0s 8ms/step - loss: 569.0256 - mae: 18.5529 - val_loss: 578.9799 - val_mae: 19.1473\n",
      "Epoch 16/100\n",
      "60/60 [==============================] - 1s 11ms/step - loss: 548.3359 - mae: 18.5009 - val_loss: 557.1359 - val_mae: 18.4391\n",
      "Epoch 17/100\n",
      "60/60 [==============================] - 1s 10ms/step - loss: 521.5125 - mae: 17.9626 - val_loss: 547.7274 - val_mae: 17.9328\n",
      "Epoch 18/100\n",
      "60/60 [==============================] - 0s 6ms/step - loss: 505.4232 - mae: 17.4810 - val_loss: 514.2162 - val_mae: 17.5905\n",
      "Epoch 19/100\n",
      "60/60 [==============================] - 1s 25ms/step - loss: 480.9809 - mae: 17.1872 - val_loss: 502.7640 - val_mae: 17.2755\n",
      "Epoch 20/100\n",
      "60/60 [==============================] - 2s 26ms/step - loss: 463.7617 - mae: 16.7962 - val_loss: 482.4064 - val_mae: 17.0172\n",
      "Epoch 21/100\n",
      "60/60 [==============================] - 1s 14ms/step - loss: 437.7085 - mae: 16.3006 - val_loss: 462.0767 - val_mae: 16.7995\n",
      "Epoch 22/100\n",
      "60/60 [==============================] - 1s 9ms/step - loss: 421.0758 - mae: 16.0580 - val_loss: 443.7076 - val_mae: 16.4582\n",
      "Epoch 23/100\n",
      "60/60 [==============================] - 0s 6ms/step - loss: 398.7931 - mae: 15.5800 - val_loss: 432.6944 - val_mae: 16.3355\n",
      "Epoch 24/100\n",
      "60/60 [==============================] - 0s 5ms/step - loss: 382.9057 - mae: 15.3337 - val_loss: 409.6569 - val_mae: 15.9030\n",
      "Epoch 25/100\n",
      "60/60 [==============================] - 1s 9ms/step - loss: 362.8052 - mae: 14.8167 - val_loss: 397.9312 - val_mae: 15.8466\n",
      "Epoch 26/100\n",
      "60/60 [==============================] - 0s 7ms/step - loss: 343.2114 - mae: 14.5401 - val_loss: 380.6848 - val_mae: 15.2823\n",
      "Epoch 27/100\n",
      "60/60 [==============================] - 0s 5ms/step - loss: 328.5031 - mae: 14.1377 - val_loss: 372.0051 - val_mae: 15.0196\n",
      "Epoch 28/100\n",
      "60/60 [==============================] - 0s 5ms/step - loss: 312.0055 - mae: 13.8033 - val_loss: 355.6570 - val_mae: 14.7603\n",
      "Epoch 29/100\n",
      "60/60 [==============================] - 0s 5ms/step - loss: 296.6156 - mae: 13.4149 - val_loss: 343.6006 - val_mae: 14.6722\n",
      "Epoch 30/100\n",
      "60/60 [==============================] - 0s 5ms/step - loss: 285.3351 - mae: 13.1968 - val_loss: 327.0029 - val_mae: 14.2240\n",
      "Epoch 31/100\n",
      "60/60 [==============================] - 1s 9ms/step - loss: 268.9444 - mae: 12.7771 - val_loss: 316.8181 - val_mae: 14.1641\n",
      "Epoch 32/100\n",
      "60/60 [==============================] - 0s 6ms/step - loss: 255.1382 - mae: 12.4939 - val_loss: 312.0020 - val_mae: 13.9943\n",
      "Epoch 33/100\n",
      "60/60 [==============================] - 0s 6ms/step - loss: 240.0370 - mae: 12.0975 - val_loss: 299.2912 - val_mae: 13.7153\n",
      "Epoch 34/100\n",
      "60/60 [==============================] - 0s 6ms/step - loss: 232.8992 - mae: 11.9462 - val_loss: 286.8276 - val_mae: 13.4228\n",
      "Epoch 35/100\n",
      "60/60 [==============================] - 0s 5ms/step - loss: 219.4206 - mae: 11.6635 - val_loss: 277.7641 - val_mae: 13.1767\n",
      "Epoch 36/100\n",
      "60/60 [==============================] - 0s 5ms/step - loss: 208.5655 - mae: 11.3426 - val_loss: 267.2953 - val_mae: 12.9788\n",
      "Epoch 37/100\n",
      "60/60 [==============================] - 0s 4ms/step - loss: 199.1322 - mae: 11.0971 - val_loss: 257.7309 - val_mae: 12.7469\n",
      "Epoch 38/100\n",
      "60/60 [==============================] - 0s 4ms/step - loss: 191.8568 - mae: 10.8989 - val_loss: 253.3782 - val_mae: 12.6595\n",
      "Epoch 39/100\n",
      "60/60 [==============================] - 0s 5ms/step - loss: 182.0371 - mae: 10.5759 - val_loss: 246.1413 - val_mae: 12.5233\n",
      "Epoch 40/100\n",
      "60/60 [==============================] - 0s 5ms/step - loss: 172.9077 - mae: 10.3976 - val_loss: 233.9589 - val_mae: 12.1708\n",
      "Epoch 41/100\n",
      "60/60 [==============================] - 0s 5ms/step - loss: 166.6634 - mae: 10.1877 - val_loss: 229.6667 - val_mae: 12.0770\n",
      "Epoch 42/100\n",
      "60/60 [==============================] - 0s 6ms/step - loss: 157.2914 - mae: 9.9087 - val_loss: 223.2264 - val_mae: 11.9123\n",
      "Epoch 43/100\n",
      "60/60 [==============================] - 1s 10ms/step - loss: 151.3459 - mae: 9.7064 - val_loss: 224.6519 - val_mae: 11.9744\n",
      "Epoch 44/100\n",
      "60/60 [==============================] - 0s 6ms/step - loss: 146.2617 - mae: 9.5429 - val_loss: 211.4717 - val_mae: 11.5493\n",
      "Epoch 45/100\n",
      "60/60 [==============================] - 0s 4ms/step - loss: 139.0824 - mae: 9.3649 - val_loss: 204.8129 - val_mae: 11.3613\n",
      "Epoch 46/100\n",
      "60/60 [==============================] - 0s 3ms/step - loss: 132.0972 - mae: 9.0912 - val_loss: 202.1941 - val_mae: 11.3528\n",
      "Epoch 47/100\n",
      "60/60 [==============================] - 0s 4ms/step - loss: 128.3856 - mae: 9.0211 - val_loss: 197.7548 - val_mae: 11.1691\n",
      "Epoch 48/100\n",
      "60/60 [==============================] - 0s 7ms/step - loss: 124.1782 - mae: 8.8815 - val_loss: 192.7978 - val_mae: 10.9809\n",
      "Epoch 49/100\n",
      "60/60 [==============================] - 0s 6ms/step - loss: 120.4560 - mae: 8.7224 - val_loss: 187.3387 - val_mae: 10.8746\n",
      "Epoch 50/100\n",
      "60/60 [==============================] - 1s 9ms/step - loss: 116.5959 - mae: 8.5992 - val_loss: 187.2443 - val_mae: 10.8456\n",
      "Epoch 51/100\n",
      "60/60 [==============================] - 0s 5ms/step - loss: 112.5614 - mae: 8.4446 - val_loss: 181.0522 - val_mae: 10.6813\n",
      "Epoch 52/100\n",
      "60/60 [==============================] - 0s 8ms/step - loss: 109.3928 - mae: 8.3827 - val_loss: 180.1627 - val_mae: 10.5632\n",
      "Epoch 53/100\n",
      "60/60 [==============================] - 1s 11ms/step - loss: 106.6447 - mae: 8.2225 - val_loss: 178.6994 - val_mae: 10.5772\n",
      "Epoch 54/100\n",
      "60/60 [==============================] - 0s 6ms/step - loss: 103.7192 - mae: 8.1384 - val_loss: 178.9675 - val_mae: 10.5573\n",
      "Epoch 55/100\n",
      "60/60 [==============================] - 0s 6ms/step - loss: 101.8300 - mae: 8.0494 - val_loss: 174.5087 - val_mae: 10.4011\n",
      "Epoch 56/100\n",
      "60/60 [==============================] - 0s 5ms/step - loss: 99.6524 - mae: 7.9394 - val_loss: 171.1553 - val_mae: 10.3804\n",
      "Epoch 57/100\n",
      "60/60 [==============================] - 0s 5ms/step - loss: 96.6077 - mae: 7.8545 - val_loss: 170.5844 - val_mae: 10.3007\n",
      "Epoch 58/100\n",
      "60/60 [==============================] - 0s 6ms/step - loss: 94.5978 - mae: 7.7465 - val_loss: 169.3195 - val_mae: 10.2713\n",
      "Epoch 59/100\n",
      "60/60 [==============================] - 0s 5ms/step - loss: 93.5434 - mae: 7.7106 - val_loss: 170.8825 - val_mae: 10.3326\n",
      "Epoch 60/100\n",
      "60/60 [==============================] - 0s 6ms/step - loss: 91.4198 - mae: 7.6234 - val_loss: 166.9638 - val_mae: 10.1888\n",
      "Epoch 61/100\n",
      "60/60 [==============================] - 0s 6ms/step - loss: 89.7532 - mae: 7.5362 - val_loss: 167.0138 - val_mae: 10.1784\n",
      "Epoch 62/100\n",
      "60/60 [==============================] - 0s 5ms/step - loss: 87.7295 - mae: 7.4643 - val_loss: 165.7437 - val_mae: 10.1047\n",
      "Epoch 63/100\n",
      "60/60 [==============================] - 0s 4ms/step - loss: 86.6060 - mae: 7.4037 - val_loss: 164.8301 - val_mae: 10.0270\n",
      "Epoch 64/100\n",
      "60/60 [==============================] - 0s 5ms/step - loss: 84.8746 - mae: 7.3376 - val_loss: 161.3936 - val_mae: 10.0145\n",
      "Epoch 65/100\n",
      "60/60 [==============================] - 0s 6ms/step - loss: 84.0491 - mae: 7.3222 - val_loss: 164.1397 - val_mae: 10.0036\n",
      "Epoch 66/100\n",
      "60/60 [==============================] - 0s 5ms/step - loss: 82.9136 - mae: 7.1934 - val_loss: 160.4267 - val_mae: 9.9493\n",
      "Epoch 67/100\n",
      "60/60 [==============================] - 0s 4ms/step - loss: 81.7000 - mae: 7.1981 - val_loss: 158.7921 - val_mae: 9.9398\n",
      "Epoch 68/100\n",
      "60/60 [==============================] - 0s 4ms/step - loss: 81.4529 - mae: 7.1616 - val_loss: 162.0362 - val_mae: 9.9421\n",
      "Epoch 69/100\n",
      "60/60 [==============================] - 0s 4ms/step - loss: 80.4967 - mae: 7.0907 - val_loss: 162.9344 - val_mae: 10.0395\n",
      "Epoch 70/100\n",
      "60/60 [==============================] - 0s 4ms/step - loss: 79.6460 - mae: 7.1113 - val_loss: 160.8912 - val_mae: 9.9889\n",
      "Epoch 71/100\n",
      "60/60 [==============================] - 0s 5ms/step - loss: 77.6165 - mae: 6.9706 - val_loss: 158.4949 - val_mae: 9.8930\n",
      "Epoch 72/100\n",
      "60/60 [==============================] - 0s 6ms/step - loss: 77.7262 - mae: 6.9787 - val_loss: 159.5867 - val_mae: 9.8486\n",
      "Epoch 73/100\n",
      "60/60 [==============================] - 0s 5ms/step - loss: 77.2767 - mae: 6.9579 - val_loss: 158.9604 - val_mae: 9.8867\n",
      "Epoch 74/100\n",
      "60/60 [==============================] - 0s 7ms/step - loss: 75.7735 - mae: 6.8771 - val_loss: 160.2076 - val_mae: 9.9411\n",
      "Epoch 75/100\n",
      "60/60 [==============================] - 0s 4ms/step - loss: 73.4344 - mae: 6.8035 - val_loss: 159.4927 - val_mae: 9.9560\n",
      "Epoch 76/100\n",
      "60/60 [==============================] - 0s 3ms/step - loss: 75.0484 - mae: 6.7982 - val_loss: 159.4969 - val_mae: 9.8473\n",
      "Epoch 77/100\n",
      "60/60 [==============================] - 0s 4ms/step - loss: 74.2612 - mae: 6.8005 - val_loss: 158.9180 - val_mae: 9.8515\n",
      "Epoch 78/100\n",
      "60/60 [==============================] - 0s 7ms/step - loss: 71.8951 - mae: 6.6915 - val_loss: 160.6341 - val_mae: 9.9411\n",
      "Epoch 79/100\n",
      "60/60 [==============================] - 0s 6ms/step - loss: 70.9301 - mae: 6.6275 - val_loss: 154.6207 - val_mae: 9.8005\n",
      "Epoch 80/100\n",
      "60/60 [==============================] - 0s 4ms/step - loss: 71.5733 - mae: 6.6587 - val_loss: 157.7107 - val_mae: 9.9319\n",
      "Epoch 81/100\n",
      "60/60 [==============================] - 0s 4ms/step - loss: 70.4741 - mae: 6.6299 - val_loss: 157.4952 - val_mae: 9.9094\n",
      "Epoch 82/100\n",
      "60/60 [==============================] - 0s 3ms/step - loss: 69.2580 - mae: 6.5751 - val_loss: 156.1416 - val_mae: 9.7772\n",
      "Epoch 83/100\n",
      "60/60 [==============================] - 0s 3ms/step - loss: 69.8660 - mae: 6.5443 - val_loss: 156.9630 - val_mae: 9.7795\n",
      "Epoch 84/100\n",
      "60/60 [==============================] - 0s 4ms/step - loss: 68.5183 - mae: 6.4863 - val_loss: 157.9864 - val_mae: 9.8578\n",
      "Epoch 85/100\n",
      "60/60 [==============================] - 0s 3ms/step - loss: 67.0619 - mae: 6.4546 - val_loss: 155.1378 - val_mae: 9.7764\n",
      "Epoch 86/100\n",
      "60/60 [==============================] - 0s 4ms/step - loss: 68.8481 - mae: 6.5149 - val_loss: 156.3423 - val_mae: 9.7228\n",
      "Epoch 87/100\n",
      "60/60 [==============================] - 0s 4ms/step - loss: 66.7527 - mae: 6.4099 - val_loss: 160.6810 - val_mae: 9.9929\n",
      "Epoch 88/100\n",
      "60/60 [==============================] - 0s 3ms/step - loss: 67.3940 - mae: 6.4178 - val_loss: 163.4804 - val_mae: 9.9727\n",
      "Epoch 89/100\n",
      "60/60 [==============================] - 0s 3ms/step - loss: 67.7007 - mae: 6.4345 - val_loss: 158.8904 - val_mae: 9.8745\n",
      "Epoch 90/100\n",
      "60/60 [==============================] - 0s 3ms/step - loss: 64.3384 - mae: 6.2613 - val_loss: 161.3325 - val_mae: 10.0077\n",
      "Epoch 91/100\n",
      "60/60 [==============================] - 0s 3ms/step - loss: 64.3907 - mae: 6.2956 - val_loss: 155.4724 - val_mae: 9.8060\n",
      "Epoch 92/100\n",
      "60/60 [==============================] - 0s 3ms/step - loss: 64.2642 - mae: 6.3137 - val_loss: 155.1503 - val_mae: 9.7208\n",
      "Epoch 93/100\n",
      "60/60 [==============================] - 0s 3ms/step - loss: 64.5324 - mae: 6.2622 - val_loss: 162.6180 - val_mae: 10.0285\n",
      "Epoch 94/100\n",
      "60/60 [==============================] - 0s 3ms/step - loss: 63.5411 - mae: 6.2482 - val_loss: 153.8161 - val_mae: 9.5929\n",
      "Epoch 95/100\n",
      "60/60 [==============================] - 0s 5ms/step - loss: 62.1549 - mae: 6.1360 - val_loss: 160.1294 - val_mae: 9.8457\n",
      "Epoch 96/100\n",
      "60/60 [==============================] - 0s 3ms/step - loss: 62.1813 - mae: 6.1634 - val_loss: 157.5370 - val_mae: 9.8644\n",
      "Epoch 97/100\n",
      "60/60 [==============================] - 0s 3ms/step - loss: 60.8888 - mae: 6.1008 - val_loss: 159.4190 - val_mae: 9.8466\n",
      "Epoch 98/100\n",
      "60/60 [==============================] - 0s 3ms/step - loss: 60.2990 - mae: 6.0350 - val_loss: 157.1349 - val_mae: 9.7886\n",
      "Epoch 99/100\n",
      "60/60 [==============================] - 0s 3ms/step - loss: 59.8271 - mae: 6.0479 - val_loss: 159.5505 - val_mae: 9.8425\n",
      "Epoch 100/100\n",
      "60/60 [==============================] - 0s 3ms/step - loss: 60.6665 - mae: 6.0821 - val_loss: 157.0325 - val_mae: 9.9055\n"
     ]
    }
   ],
   "source": [
    "hist=model.fit(xtrain,ytrain,validation_split=0.2,epochs=100)"
   ]
  },
  {
   "cell_type": "markdown",
   "metadata": {},
   "source": [
    "## Plot the learning curve"
   ]
  },
  {
   "cell_type": "code",
   "execution_count": 23,
   "metadata": {},
   "outputs": [
    {
     "data": {
      "image/png": "[encoded data removed]",
      "text/plain": [
       "<Figure size 1000x500 with 1 Axes>"
      ]
     },
     "metadata": {},
     "output_type": "display_data"
    }
   ],
   "source": [
    "import matplotlib.pyplot as plt\n",
    "plt.figure(figsize=(10,5))\n",
    "plt.plot(hist.history['loss'],label='Traning Loss')\n",
    "plt.plot(hist.history['val_loss'],label='Validation Loss')\n",
    "plt.xlabel('Epochs')\n",
    "plt.ylabel('Mean Squared Error')\n",
    "plt.title('Learning Curve')\n",
    "plt.legend()\n",
    "plt.show()"
   ]
  },
  {
   "cell_type": "markdown",
   "metadata": {},
   "source": [
    "## Evaluate the model"
   ]
  },
  {
   "cell_type": "code",
   "execution_count": 24,
   "metadata": {},
   "outputs": [
    {
     "name": "stdout",
     "output_type": "stream",
     "text": [
      "75/75 [==============================] - 0s 2ms/step - loss: 75.3985 - mae: 6.5783\n"
     ]
    },
    {
     "data": {
      "text/plain": [
       "[75.39846801757812, 6.578315258026123]"
      ]
     },
     "execution_count": 24,
     "metadata": {},
     "output_type": "execute_result"
    }
   ],
   "source": [
    "model.evaluate(xtrain,ytrain)"
   ]
  },
  {
   "cell_type": "code",
   "execution_count": 25,
   "metadata": {},
   "outputs": [
    {
     "name": "stdout",
     "output_type": "stream",
     "text": [
      "19/19 [==============================] - 0s 2ms/step - loss: 152.0730 - mae: 9.5749\n"
     ]
    },
    {
     "data": {
      "text/plain": [
       "[152.072998046875, 9.57490062713623]"
      ]
     },
     "execution_count": 25,
     "metadata": {},
     "output_type": "execute_result"
    }
   ],
   "source": [
    "model.evaluate(xtest,ytest)"
   ]
  },
  {
   "cell_type": "markdown",
   "metadata": {},
   "source": [
    "## Predicting values for train and test"
   ]
  },
  {
   "cell_type": "code",
   "execution_count": 26,
   "metadata": {},
   "outputs": [
    {
     "name": "stdout",
     "output_type": "stream",
     "text": [
      "75/75 [==============================] - 0s 2ms/step\n",
      "19/19 [==============================] - 0s 4ms/step\n"
     ]
    }
   ],
   "source": [
    "ypred_tr=model.predict(xtrain)\n",
    "ypred_ts=model.predict(xtest)"
   ]
  },
  {
   "cell_type": "code",
   "execution_count": 27,
   "metadata": {},
   "outputs": [
    {
     "data": {
      "text/plain": [
       "array([[  116.4467  ],\n",
       "       [-1062.9065  ],\n",
       "       [ -125.181526],\n",
       "       [  763.77594 ],\n",
       "       [ -184.5651  ]], dtype=float32)"
      ]
     },
     "execution_count": 27,
     "metadata": {},
     "output_type": "execute_result"
    }
   ],
   "source": [
    "ypred_tr[0:5]"
   ]
  },
  {
   "cell_type": "code",
   "execution_count": 28,
   "metadata": {},
   "outputs": [
    {
     "data": {
      "text/html": [
       "<div>\n",
       "<style scoped>\n",
       "    .dataframe tbody tr th:only-of-type {\n",
       "        vertical-align: middle;\n",
       "    }\n",
       "\n",
       "    .dataframe tbody tr th {\n",
       "        vertical-align: top;\n",
       "    }\n",
       "\n",
       "    .dataframe thead th {\n",
       "        text-align: right;\n",
       "    }\n",
       "</style>\n",
       "<table border=\"1\" class=\"dataframe\">\n",
       "  <thead>\n",
       "    <tr style=\"text-align: right;\">\n",
       "      <th></th>\n",
       "      <th>y</th>\n",
       "    </tr>\n",
       "  </thead>\n",
       "  <tbody>\n",
       "    <tr>\n",
       "      <th>1643</th>\n",
       "      <td>112.433915</td>\n",
       "    </tr>\n",
       "    <tr>\n",
       "      <th>137</th>\n",
       "      <td>-1083.527732</td>\n",
       "    </tr>\n",
       "    <tr>\n",
       "      <th>1205</th>\n",
       "      <td>-128.674183</td>\n",
       "    </tr>\n",
       "    <tr>\n",
       "      <th>523</th>\n",
       "      <td>761.187440</td>\n",
       "    </tr>\n",
       "    <tr>\n",
       "      <th>1493</th>\n",
       "      <td>-172.902429</td>\n",
       "    </tr>\n",
       "  </tbody>\n",
       "</table>\n",
       "</div>"
      ],
      "text/plain": [
       "                y\n",
       "1643   112.433915\n",
       "137  -1083.527732\n",
       "1205  -128.674183\n",
       "523    761.187440\n",
       "1493  -172.902429"
      ]
     },
     "execution_count": 28,
     "metadata": {},
     "output_type": "execute_result"
    }
   ],
   "source": [
    "ytrain.head()"
   ]
  },
  {
   "cell_type": "code",
   "execution_count": 29,
   "metadata": {},
   "outputs": [
    {
     "data": {
      "text/plain": [
       "array([[-139.35051],\n",
       "       [-828.98627],\n",
       "       [ 724.54596],\n",
       "       [ 515.85986],\n",
       "       [ -44.97551]], dtype=float32)"
      ]
     },
     "execution_count": 29,
     "metadata": {},
     "output_type": "execute_result"
    }
   ],
   "source": [
    "ypred_ts[0:5]"
   ]
  },
  {
   "cell_type": "code",
   "execution_count": 30,
   "metadata": {},
   "outputs": [
    {
     "data": {
      "text/html": [
       "<div>\n",
       "<style scoped>\n",
       "    .dataframe tbody tr th:only-of-type {\n",
       "        vertical-align: middle;\n",
       "    }\n",
       "\n",
       "    .dataframe tbody tr th {\n",
       "        vertical-align: top;\n",
       "    }\n",
       "\n",
       "    .dataframe thead th {\n",
       "        text-align: right;\n",
       "    }\n",
       "</style>\n",
       "<table border=\"1\" class=\"dataframe\">\n",
       "  <thead>\n",
       "    <tr style=\"text-align: right;\">\n",
       "      <th></th>\n",
       "      <th>y</th>\n",
       "    </tr>\n",
       "  </thead>\n",
       "  <tbody>\n",
       "    <tr>\n",
       "      <th>1643</th>\n",
       "      <td>112.433915</td>\n",
       "    </tr>\n",
       "    <tr>\n",
       "      <th>137</th>\n",
       "      <td>-1083.527732</td>\n",
       "    </tr>\n",
       "    <tr>\n",
       "      <th>1205</th>\n",
       "      <td>-128.674183</td>\n",
       "    </tr>\n",
       "    <tr>\n",
       "      <th>523</th>\n",
       "      <td>761.187440</td>\n",
       "    </tr>\n",
       "    <tr>\n",
       "      <th>1493</th>\n",
       "      <td>-172.902429</td>\n",
       "    </tr>\n",
       "  </tbody>\n",
       "</table>\n",
       "</div>"
      ],
      "text/plain": [
       "                y\n",
       "1643   112.433915\n",
       "137  -1083.527732\n",
       "1205  -128.674183\n",
       "523    761.187440\n",
       "1493  -172.902429"
      ]
     },
     "execution_count": 30,
     "metadata": {},
     "output_type": "execute_result"
    }
   ],
   "source": [
    "ytrain.head()"
   ]
  },
  {
   "cell_type": "code",
   "execution_count": 31,
   "metadata": {},
   "outputs": [
    {
     "data": {
      "text/html": [
       "<div>\n",
       "<style scoped>\n",
       "    .dataframe tbody tr th:only-of-type {\n",
       "        vertical-align: middle;\n",
       "    }\n",
       "\n",
       "    .dataframe tbody tr th {\n",
       "        vertical-align: top;\n",
       "    }\n",
       "\n",
       "    .dataframe thead th {\n",
       "        text-align: right;\n",
       "    }\n",
       "</style>\n",
       "<table border=\"1\" class=\"dataframe\">\n",
       "  <thead>\n",
       "    <tr style=\"text-align: right;\">\n",
       "      <th></th>\n",
       "      <th>y</th>\n",
       "    </tr>\n",
       "  </thead>\n",
       "  <tbody>\n",
       "    <tr>\n",
       "      <th>465</th>\n",
       "      <td>-153.360317</td>\n",
       "    </tr>\n",
       "    <tr>\n",
       "      <th>904</th>\n",
       "      <td>-827.315745</td>\n",
       "    </tr>\n",
       "    <tr>\n",
       "      <th>2639</th>\n",
       "      <td>715.436126</td>\n",
       "    </tr>\n",
       "    <tr>\n",
       "      <th>2125</th>\n",
       "      <td>528.030227</td>\n",
       "    </tr>\n",
       "    <tr>\n",
       "      <th>1962</th>\n",
       "      <td>-44.600383</td>\n",
       "    </tr>\n",
       "  </tbody>\n",
       "</table>\n",
       "</div>"
      ],
      "text/plain": [
       "               y\n",
       "465  -153.360317\n",
       "904  -827.315745\n",
       "2639  715.436126\n",
       "2125  528.030227\n",
       "1962  -44.600383"
      ]
     },
     "execution_count": 31,
     "metadata": {},
     "output_type": "execute_result"
    }
   ],
   "source": [
    "ytest.head()"
   ]
  },
  {
   "cell_type": "markdown",
   "metadata": {},
   "source": [
    "## Calculating R2 Score in train and test"
   ]
  },
  {
   "cell_type": "code",
   "execution_count": 32,
   "metadata": {},
   "outputs": [],
   "source": [
    "from sklearn.metrics import r2_score"
   ]
  },
  {
   "cell_type": "code",
   "execution_count": 33,
   "metadata": {},
   "outputs": [
    {
     "data": {
      "text/plain": [
       "0.9993357047068103"
      ]
     },
     "execution_count": 33,
     "metadata": {},
     "output_type": "execute_result"
    }
   ],
   "source": [
    "tr_r2=r2_score(ytrain,ypred_tr)\n",
    "tr_r2"
   ]
  },
  {
   "cell_type": "code",
   "execution_count": 34,
   "metadata": {},
   "outputs": [
    {
     "data": {
      "text/plain": [
       "0.9987213861015619"
      ]
     },
     "execution_count": 34,
     "metadata": {},
     "output_type": "execute_result"
    }
   ],
   "source": [
    "ts_r2=r2_score(ytest,ypred_ts)\n",
    "ts_r2"
   ]
  },
  {
   "cell_type": "markdown",
   "metadata": {},
   "source": [
    "## Saving the neural network model for given dataset"
   ]
  },
  {
   "cell_type": "code",
   "execution_count": 35,
   "metadata": {},
   "outputs": [
    {
     "name": "stdout",
     "output_type": "stream",
     "text": [
      "Model: \"sequential\"\n",
      "_________________________________________________________________\n",
      " Layer (type)                Output Shape              Param #   \n",
      "=================================================================\n",
      " dense (Dense)               (None, 64)                1984      \n",
      "                                                                 \n",
      " dense_1 (Dense)             (None, 32)                2080      \n",
      "                                                                 \n",
      " dense_2 (Dense)             (None, 1)                 33        \n",
      "                                                                 \n",
      "=================================================================\n",
      "Total params: 4097 (16.00 KB)\n",
      "Trainable params: 4097 (16.00 KB)\n",
      "Non-trainable params: 0 (0.00 Byte)\n",
      "_________________________________________________________________\n"
     ]
    }
   ],
   "source": [
    "model.summary()"
   ]
  },
  {
   "cell_type": "code",
   "execution_count": 36,
   "metadata": {},
   "outputs": [],
   "source": [
    "model.save('Regression.keras')"
   ]
  },
  {
   "cell_type": "markdown",
   "metadata": {},
   "source": [
    "## Loading the model"
   ]
  },
  {
   "cell_type": "code",
   "execution_count": 37,
   "metadata": {},
   "outputs": [
    {
     "name": "stdout",
     "output_type": "stream",
     "text": [
      "Model: \"sequential\"\n",
      "_________________________________________________________________\n",
      " Layer (type)                Output Shape              Param #   \n",
      "=================================================================\n",
      " dense (Dense)               (None, 64)                1984      \n",
      "                                                                 \n",
      " dense_1 (Dense)             (None, 32)                2080      \n",
      "                                                                 \n",
      " dense_2 (Dense)             (None, 1)                 33        \n",
      "                                                                 \n",
      "=================================================================\n",
      "Total params: 4097 (16.00 KB)\n",
      "Trainable params: 4097 (16.00 KB)\n",
      "Non-trainable params: 0 (0.00 Byte)\n",
      "_________________________________________________________________\n"
     ]
    }
   ],
   "source": [
    "from keras.models import load_model\n",
    "nn=load_model('Regression.keras')\n",
    "nn.summary()"
   ]
  }
 ],
 "metadata": {
  "kernelspec": {
   "display_name": "venv",
   "language": "python",
   "name": "python3"
  },
  "language_info": {
   "codemirror_mode": {
    "name": "ipython",
    "version": 3
   },
   "file_extension": ".py",
   "mimetype": "text/x-python",
   "name": "python",
   "nbconvert_exporter": "python",
   "pygments_lexer": "ipython3",
   "version": "3.11.2"
  }
 },
 "nbformat": 4,
 "nbformat_minor": 2
}
